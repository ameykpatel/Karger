{
 "cells": [
  {
   "cell_type": "code",
   "execution_count": 251,
   "metadata": {},
   "outputs": [],
   "source": [
    "import random\n",
    "import copy\n",
    "import numpy as np\n",
    "from time import *\n",
    "import math\n",
    "from collections import Counter\n",
    "\n",
    "cuts = []\n",
    "graph = {}\n",
    "\n",
    "def length(graph):\n",
    "    if graph is None:\n",
    "        return 0\n",
    "    else:\n",
    "        return len(graph)\n",
    "    \n",
    "def getRandomEdge(graph):\n",
    "    v = random.choice(list(graph.keys()))\n",
    "    w = random.choice(graph[v])\n",
    "    return (v,w)\n",
    "\n",
    "def kargerMinCut(graph,t):\n",
    "    while length(graph) > t:\n",
    "        v, w = getRandomEdge(graph)\n",
    "        contract(graph, v, w)\n",
    "    mincut = length(graph[list(graph.keys())[0]])\n",
    "    cuts.append(mincut)\n",
    "\n",
    "def contract(graph, v, w):\n",
    "    for node in graph[w]:\n",
    "        if node != v:\n",
    "            graph[v].append(node)\n",
    "        graph[node].remove(w)\n",
    "        if node != v:\n",
    "            graph[node].append(v)\n",
    "    del graph[w]\n",
    "\n",
    "def Fast_kargerMinCut(graph):\n",
    "    print(type((graph)))\n",
    "    if length(graph) < 6:\n",
    "        return kargerMinCut(graph,2)\n",
    "    else:\n",
    "        t = 1 + math.floor(length(graph) / math.sqrt(2))\n",
    "        graph_1 = kargerMinCut(graph, t)\n",
    "        graph_2 = kargerMinCut(graph, t)\n",
    "        if length(graph_1) > length(graph_2):\n",
    "            return Fast_kargerMinCut(graph_2)\n",
    "        else:\n",
    "            return Fast_kargerMinCut(graph_1)\n",
    "#         return min(Fast_kargerMinCut(graph_2),Fast_kargerMinCut(graph_1))\n",
    "        \n",
    "def readGraphFromFile(filename):\n",
    "    file = open(filename)\n",
    "#     global graph\n",
    "    graph = {}\n",
    "    for line in file:\n",
    "        edges = []\n",
    "        line = line.split()\n",
    "        line = [int(x) for x in line]\n",
    "        graph[int(line[0])] = line[1:]\n",
    "    print(str(length(graph)) + \" vertices in dictionary.\")\n",
    "    return graph\n"
   ]
  },
  {
   "cell_type": "code",
   "execution_count": 258,
   "metadata": {},
   "outputs": [],
   "source": [
    "def main():\n",
    "    start = time()\n",
    "    iteration = 10\n",
    "\n",
    "    graph = readGraphFromFile('kargerMinCut.txt')\n",
    "    for i in range(1, iteration):\n",
    "        copiedGraph = copy.deepcopy(graph)\n",
    "        kargerMinCut(copiedGraph,2)\n",
    "    print(\"MinCut is \" + str(min(cuts)))\n",
    "    pass\n",
    "    end = time()\n",
    "    print(\"Time taken by the algorithm after {0} iteration(s) is {1} \".format( iteration,str(end - start)))\n"
   ]
  },
  {
   "cell_type": "code",
   "execution_count": 259,
   "metadata": {},
   "outputs": [
    {
     "name": "stdout",
     "output_type": "stream",
     "text": [
      "200 vertices in dictionary.\n",
      "MinCut is 17\n",
      "Time taken by the algorithm after 10 iteration(s) is 0.461873054504 \n"
     ]
    }
   ],
   "source": [
    "main()"
   ]
  },
  {
   "cell_type": "code",
   "execution_count": 261,
   "metadata": {},
   "outputs": [],
   "source": [
    "def fast_main():\n",
    "    start = time()\n",
    "    iteration = 1\n",
    "\n",
    "#     graphs = readGraphFromFile('kargerMinCut.txt')\n",
    "    for i in range(0, iteration):\n",
    "        graphs = readGraphFromFile('kargerMinCut.txt')\n",
    "        copiedGraph = copy.deepcopy(graphs)\n",
    "        Fast_kargerMinCut(copiedGraph)\n",
    "    print(\"MinCut is \" + str(min(cuts)))\n",
    "    pass\n",
    "    end = time()\n",
    "    print(\"Time taken by the algorithm after {0} iteration(s) is {1} \".format( iteration,str(end - start)))\n"
   ]
  },
  {
   "cell_type": "code",
   "execution_count": 262,
   "metadata": {},
   "outputs": [
    {
     "name": "stdout",
     "output_type": "stream",
     "text": [
      "200 vertices in dictionary.\n",
      "<type 'dict'>\n",
      "<type 'NoneType'>\n"
     ]
    },
    {
     "ename": "AttributeError",
     "evalue": "'NoneType' object has no attribute 'keys'",
     "output_type": "error",
     "traceback": [
      "\u001b[0;31m---------------------------------------------------------------------------\u001b[0m",
      "\u001b[0;31mAttributeError\u001b[0m                            Traceback (most recent call last)",
      "\u001b[0;32m<ipython-input-262-2928ac5b39d8>\u001b[0m in \u001b[0;36m<module>\u001b[0;34m()\u001b[0m\n\u001b[0;32m----> 1\u001b[0;31m \u001b[0mfast_main\u001b[0m\u001b[0;34m(\u001b[0m\u001b[0;34m)\u001b[0m\u001b[0;34m\u001b[0m\u001b[0m\n\u001b[0m",
      "\u001b[0;32m<ipython-input-261-8f091a7746b2>\u001b[0m in \u001b[0;36mfast_main\u001b[0;34m()\u001b[0m\n\u001b[1;32m      7\u001b[0m         \u001b[0mgraphs\u001b[0m \u001b[0;34m=\u001b[0m \u001b[0mreadGraphFromFile\u001b[0m\u001b[0;34m(\u001b[0m\u001b[0;34m'kargerMinCut.txt'\u001b[0m\u001b[0;34m)\u001b[0m\u001b[0;34m\u001b[0m\u001b[0m\n\u001b[1;32m      8\u001b[0m         \u001b[0mcopiedGraph\u001b[0m \u001b[0;34m=\u001b[0m \u001b[0mcopy\u001b[0m\u001b[0;34m.\u001b[0m\u001b[0mdeepcopy\u001b[0m\u001b[0;34m(\u001b[0m\u001b[0mgraphs\u001b[0m\u001b[0;34m)\u001b[0m\u001b[0;34m\u001b[0m\u001b[0m\n\u001b[0;32m----> 9\u001b[0;31m         \u001b[0mFast_kargerMinCut\u001b[0m\u001b[0;34m(\u001b[0m\u001b[0mcopiedGraph\u001b[0m\u001b[0;34m)\u001b[0m\u001b[0;34m\u001b[0m\u001b[0m\n\u001b[0m\u001b[1;32m     10\u001b[0m     \u001b[0;32mprint\u001b[0m\u001b[0;34m(\u001b[0m\u001b[0;34m\"MinCut is \"\u001b[0m \u001b[0;34m+\u001b[0m \u001b[0mstr\u001b[0m\u001b[0;34m(\u001b[0m\u001b[0mmin\u001b[0m\u001b[0;34m(\u001b[0m\u001b[0mcuts\u001b[0m\u001b[0;34m)\u001b[0m\u001b[0;34m)\u001b[0m\u001b[0;34m)\u001b[0m\u001b[0;34m\u001b[0m\u001b[0m\n\u001b[1;32m     11\u001b[0m     \u001b[0;32mpass\u001b[0m\u001b[0;34m\u001b[0m\u001b[0m\n",
      "\u001b[0;32m<ipython-input-251-14442fbe0bda>\u001b[0m in \u001b[0;36mFast_kargerMinCut\u001b[0;34m(graph)\u001b[0m\n\u001b[1;32m     47\u001b[0m             \u001b[0;32mreturn\u001b[0m \u001b[0mFast_kargerMinCut\u001b[0m\u001b[0;34m(\u001b[0m\u001b[0mgraph_2\u001b[0m\u001b[0;34m)\u001b[0m\u001b[0;34m\u001b[0m\u001b[0m\n\u001b[1;32m     48\u001b[0m         \u001b[0;32melse\u001b[0m\u001b[0;34m:\u001b[0m\u001b[0;34m\u001b[0m\u001b[0m\n\u001b[0;32m---> 49\u001b[0;31m             \u001b[0;32mreturn\u001b[0m \u001b[0mFast_kargerMinCut\u001b[0m\u001b[0;34m(\u001b[0m\u001b[0mgraph_1\u001b[0m\u001b[0;34m)\u001b[0m\u001b[0;34m\u001b[0m\u001b[0m\n\u001b[0m\u001b[1;32m     50\u001b[0m \u001b[0;31m#         return min(Fast_kargerMinCut(graph_2),Fast_kargerMinCut(graph_1))\u001b[0m\u001b[0;34m\u001b[0m\u001b[0;34m\u001b[0m\u001b[0m\n\u001b[1;32m     51\u001b[0m \u001b[0;34m\u001b[0m\u001b[0m\n",
      "\u001b[0;32m<ipython-input-251-14442fbe0bda>\u001b[0m in \u001b[0;36mFast_kargerMinCut\u001b[0;34m(graph)\u001b[0m\n\u001b[1;32m     39\u001b[0m     \u001b[0;32mprint\u001b[0m\u001b[0;34m(\u001b[0m\u001b[0mtype\u001b[0m\u001b[0;34m(\u001b[0m\u001b[0;34m(\u001b[0m\u001b[0mgraph\u001b[0m\u001b[0;34m)\u001b[0m\u001b[0;34m)\u001b[0m\u001b[0;34m)\u001b[0m\u001b[0;34m\u001b[0m\u001b[0m\n\u001b[1;32m     40\u001b[0m     \u001b[0;32mif\u001b[0m \u001b[0mlength\u001b[0m\u001b[0;34m(\u001b[0m\u001b[0mgraph\u001b[0m\u001b[0;34m)\u001b[0m \u001b[0;34m<\u001b[0m \u001b[0;36m6\u001b[0m\u001b[0;34m:\u001b[0m\u001b[0;34m\u001b[0m\u001b[0m\n\u001b[0;32m---> 41\u001b[0;31m         \u001b[0;32mreturn\u001b[0m \u001b[0mkargerMinCut\u001b[0m\u001b[0;34m(\u001b[0m\u001b[0mgraph\u001b[0m\u001b[0;34m,\u001b[0m\u001b[0;36m2\u001b[0m\u001b[0;34m)\u001b[0m\u001b[0;34m\u001b[0m\u001b[0m\n\u001b[0m\u001b[1;32m     42\u001b[0m     \u001b[0;32melse\u001b[0m\u001b[0;34m:\u001b[0m\u001b[0;34m\u001b[0m\u001b[0m\n\u001b[1;32m     43\u001b[0m         \u001b[0mt\u001b[0m \u001b[0;34m=\u001b[0m \u001b[0;36m1\u001b[0m \u001b[0;34m+\u001b[0m \u001b[0mmath\u001b[0m\u001b[0;34m.\u001b[0m\u001b[0mfloor\u001b[0m\u001b[0;34m(\u001b[0m\u001b[0mlength\u001b[0m\u001b[0;34m(\u001b[0m\u001b[0mgraph\u001b[0m\u001b[0;34m)\u001b[0m \u001b[0;34m/\u001b[0m \u001b[0mmath\u001b[0m\u001b[0;34m.\u001b[0m\u001b[0msqrt\u001b[0m\u001b[0;34m(\u001b[0m\u001b[0;36m2\u001b[0m\u001b[0;34m)\u001b[0m\u001b[0;34m)\u001b[0m\u001b[0;34m\u001b[0m\u001b[0m\n",
      "\u001b[0;32m<ipython-input-251-14442fbe0bda>\u001b[0m in \u001b[0;36mkargerMinCut\u001b[0;34m(graph, t)\u001b[0m\n\u001b[1;32m     24\u001b[0m         \u001b[0mv\u001b[0m\u001b[0;34m,\u001b[0m \u001b[0mw\u001b[0m \u001b[0;34m=\u001b[0m \u001b[0mgetRandomEdge\u001b[0m\u001b[0;34m(\u001b[0m\u001b[0mgraph\u001b[0m\u001b[0;34m)\u001b[0m\u001b[0;34m\u001b[0m\u001b[0m\n\u001b[1;32m     25\u001b[0m         \u001b[0mcontract\u001b[0m\u001b[0;34m(\u001b[0m\u001b[0mgraph\u001b[0m\u001b[0;34m,\u001b[0m \u001b[0mv\u001b[0m\u001b[0;34m,\u001b[0m \u001b[0mw\u001b[0m\u001b[0;34m)\u001b[0m\u001b[0;34m\u001b[0m\u001b[0m\n\u001b[0;32m---> 26\u001b[0;31m     \u001b[0mmincut\u001b[0m \u001b[0;34m=\u001b[0m \u001b[0mlength\u001b[0m\u001b[0;34m(\u001b[0m\u001b[0mgraph\u001b[0m\u001b[0;34m[\u001b[0m\u001b[0mlist\u001b[0m\u001b[0;34m(\u001b[0m\u001b[0mgraph\u001b[0m\u001b[0;34m.\u001b[0m\u001b[0mkeys\u001b[0m\u001b[0;34m(\u001b[0m\u001b[0;34m)\u001b[0m\u001b[0;34m)\u001b[0m\u001b[0;34m[\u001b[0m\u001b[0;36m0\u001b[0m\u001b[0;34m]\u001b[0m\u001b[0;34m]\u001b[0m\u001b[0;34m)\u001b[0m\u001b[0;34m\u001b[0m\u001b[0m\n\u001b[0m\u001b[1;32m     27\u001b[0m     \u001b[0mcuts\u001b[0m\u001b[0;34m.\u001b[0m\u001b[0mappend\u001b[0m\u001b[0;34m(\u001b[0m\u001b[0mmincut\u001b[0m\u001b[0;34m)\u001b[0m\u001b[0;34m\u001b[0m\u001b[0m\n\u001b[1;32m     28\u001b[0m \u001b[0;34m\u001b[0m\u001b[0m\n",
      "\u001b[0;31mAttributeError\u001b[0m: 'NoneType' object has no attribute 'keys'"
     ]
    }
   ],
   "source": [
    "fast_main()"
   ]
  },
  {
   "cell_type": "code",
   "execution_count": null,
   "metadata": {},
   "outputs": [],
   "source": []
  },
  {
   "cell_type": "code",
   "execution_count": null,
   "metadata": {},
   "outputs": [],
   "source": []
  },
  {
   "cell_type": "code",
   "execution_count": null,
   "metadata": {},
   "outputs": [],
   "source": []
  }
 ],
 "metadata": {
  "kernelspec": {
   "display_name": "Python 3",
   "language": "python",
   "name": "python3"
  },
  "language_info": {
   "codemirror_mode": {
    "name": "ipython",
    "version": 3
   },
   "file_extension": ".py",
   "mimetype": "text/x-python",
   "name": "python",
   "nbconvert_exporter": "python",
   "pygments_lexer": "ipython3",
   "version": "3.6.3"
  }
 },
 "nbformat": 4,
 "nbformat_minor": 2
}
