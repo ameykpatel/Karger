{
 "cells": [
  {
   "cell_type": "code",
   "execution_count": 3,
   "metadata": {},
   "outputs": [],
   "source": [
    "from collections import deque\n",
    "\n",
    "def ford_fulkerson(n, s, t, c):\n",
    "    '''\n",
    "    n: number of nodes\n",
    "    s: start node\n",
    "    t: target node\n",
    "    c: capacity matrix\n",
    "    '''\n",
    "    INF = 1 << 50\n",
    "    max_flow = 0\n",
    "\n",
    "\n",
    "    f = [[0 for k in range(n)] for i in range(n)]\n",
    "\n",
    "    # while there is a path from s to t in the residual graph\n",
    "    while True:\n",
    "        # Use BFS to find s-t path in residual graph\n",
    "        prev = [ -1 for _ in range(n) ]\n",
    "        prev[s] = -2\n",
    "        q = deque()\n",
    "        q.append(s)\n",
    "\n",
    "        while q and prev[t] == -1:\n",
    "            u = q.popleft()\n",
    "            for v in range(n):\n",
    "                cf = c[u][v] - f[u][v]\n",
    "                if cf > 0 and prev[v] == -1:\n",
    "                    q.append(v)\n",
    "                    prev[v] = u\n",
    "\n",
    "        if prev[t] == -1:   # if t has not been reached\n",
    "            break\n",
    "\n",
    "        # augment s-t path in residual graph that has been found by BFS\n",
    "        v = t\n",
    "        delta = INF\n",
    "        while True:\n",
    "            u = prev[v]\n",
    "            cf = c[u][v] - f[u][v]\n",
    "            delta = min(delta, cf)\n",
    "            v = u\n",
    "            if v == s:\n",
    "                break\n",
    "\n",
    "        v = t\n",
    "        while True:\n",
    "            u = prev[v]\n",
    "            f[u][v] += delta\n",
    "            f[v][u] -= delta\n",
    "            v = u\n",
    "            if v == s:\n",
    "                break\n",
    "\n",
    "        max_flow += delta\n",
    "\n",
    "    return max_flow\n",
    "\n",
    "\n",
    "def readGraphFromFile(filename):\n",
    "    file = open(filename).read().split()\n",
    "#     print(file[0:4])\n",
    "    counter = 0\n",
    "    node_number, edge_number, s, t = map(int, file[0:4])\n",
    "    file = open(filename)\n",
    "\n",
    "    capacity_matrix = [[0 for k in range(node_number)] for i in range(node_number)]\n",
    "\n",
    "    for line in file:\n",
    "        if counter > 0 :\n",
    "            line = line.split()\n",
    "            u, v, c = [int(x) for x in line]\n",
    "            capacity_matrix[u-1][v-1] = c\n",
    "        counter = counter + 1\n",
    "\n",
    "    # capacity_matrix = [[0 for x in range(3)] for x in range(edge_number)]\n",
    "    #\n",
    "    # for i in range(edge_number):\n",
    "    #\n",
    "    #         capacity_matrix[i-1][j-1] = int(my_matrix[i][j])\n",
    "\n",
    "    return (node_number, s, t, capacity_matrix )"
   ]
  },
  {
   "cell_type": "code",
   "execution_count": 4,
   "metadata": {},
   "outputs": [],
   "source": [
    "def main():\n",
    "    node_number, s, t, capacity_matrix = readGraphFromFile('fulkerson.txt')\n",
    "#     print(node_number, s, t, capacity_matrix)\n",
    "    mincut = ford_fulkerson(node_number, s - 1, t - 1, capacity_matrix )\n",
    "    print('Min cut by Ford-Fulkerson Algorithm is {0}'.format(mincut))"
   ]
  },
  {
   "cell_type": "code",
   "execution_count": 5,
   "metadata": {},
   "outputs": [
    {
     "name": "stdout",
     "output_type": "stream",
     "text": [
      "(6, 1, 6, [[0, 2, 0, 6, 0, 0], [0, 0, 1, 7, 1, 0], [0, 0, 0, 0, 8, 1], [0, 0, 0, 0, 4, 0], [0, 0, 0, 0, 0, 5], [0, 0, 0, 0, 0, 0]])\n",
      "Min cut by Ford-Fulkerson Algorithm is 6\n"
     ]
    }
   ],
   "source": [
    "main()"
   ]
  },
  {
   "cell_type": "code",
   "execution_count": null,
   "metadata": {},
   "outputs": [],
   "source": []
  }
 ],
 "metadata": {
  "kernelspec": {
   "display_name": "Python 3",
   "language": "python",
   "name": "python3"
  },
  "language_info": {
   "codemirror_mode": {
    "name": "ipython",
    "version": 2
   },
   "file_extension": ".py",
   "mimetype": "text/x-python",
   "name": "python",
   "nbconvert_exporter": "python",
   "pygments_lexer": "ipython2",
   "version": "2.7.14"
  }
 },
 "nbformat": 4,
 "nbformat_minor": 2
}
