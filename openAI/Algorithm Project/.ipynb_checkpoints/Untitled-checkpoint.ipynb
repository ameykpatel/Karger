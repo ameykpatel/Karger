{
 "cells": [
  {
   "cell_type": "code",
   "execution_count": 74,
   "metadata": {},
   "outputs": [
    {
     "name": "stdout",
     "output_type": "stream",
     "text": [
      "200 vertices in dictionary.\n",
      "MinCut is 17\n"
     ]
    }
   ],
   "source": [
    "import random\n",
    "import copy\n",
    "import numpy as np\n",
    "\n",
    "cuts = []\n",
    "graph = {}\n",
    "def getRandomEdge(graph):\n",
    "    v = random.choice(list(graph.keys()))\n",
    "    w = random.choice(graph[v])\n",
    "    return (v,w)\n",
    "\n",
    "def kargerMinCut(graph):\n",
    "    while len(graph) > 2:\n",
    "        v, w = getRandomEdge(graph)\n",
    "        contract(graph, v, w) \n",
    "    mincut = len(graph[list(graph.keys())[0]])\n",
    "    cuts.append(mincut)\n",
    "\n",
    "def contract(graph, v, w):\n",
    "    for node in graph[w]: \n",
    "        if node != v: \n",
    "            graph[v].append(node)\n",
    "        graph[node].remove(w)  \n",
    "        if node != v:\n",
    "            graph[node].append(v)\n",
    "\n",
    "    del graph[w] \n",
    "    \n",
    "def readGraphFromFile(filename):\n",
    "    file = open(filename)\n",
    "    global graph\n",
    "    graph = {}\n",
    "    for line in file:\n",
    "        edges = []\n",
    "        line = ((line.split()))\n",
    "        line = map(int, line)\n",
    "        graph[int(line[0])] = line[1:]\n",
    "    print(str(len(graph)) + \" vertices in dictionary.\")\n",
    "    return graph\n",
    "\n",
    "if __name__ == '__main__':\n",
    "    iteration = 10\n",
    "\n",
    "    graph = readGraphFromFile('kargerMinCut.txt')\n",
    "    for i in range(1, iteration): \n",
    "        copiedGraph = copy.deepcopy(graph)\n",
    "        kargerMinCut(copiedGraph)\n",
    "    print(\"MinCut is \" + str(min(cuts)))\n",
    "    pass"
   ]
  },
  {
   "cell_type": "code",
   "execution_count": 63,
   "metadata": {},
   "outputs": [
    {
     "name": "stdout",
     "output_type": "stream",
     "text": [
      "[[37, 79, 164, 155, 32, 87, 39, 113, 15, 18, 78, 175, 140, 200, 4, 160, 97, 191, 100, 91, 20, 69, 198, 196]]\n",
      "[[123, 134, 10, 141, 13, 12, 43, 47, 3, 177, 101, 179, 77, 182, 117, 116, 36, 103, 51, 154, 162, 128, 30]]\n",
      "[[48, 123, 134, 109, 41, 17, 159, 49, 136, 16, 130, 141, 29, 176, 2, 190, 66, 153, 157, 70, 114, 65, 173, 104, 194, 54]]\n",
      "[[91, 171, 118, 125, 158, 76, 107, 18, 73, 140, 42, 193, 127, 100, 84, 121, 60, 81, 99, 80, 150, 55, 1, 35, 23, 93]]\n",
      "[[193, 156, 102, 118, 175, 39, 124, 119, 19, 99, 160, 75, 20, 112, 37, 23, 145, 135, 146, 73, 35]]\n",
      "[[155, 56, 52, 120, 131, 160, 124, 119, 14, 196, 144, 25, 75, 76, 166, 35, 87, 26, 20, 32, 23]]\n",
      "[[156, 185, 178, 79, 27, 52, 144, 107, 78, 22, 71, 26, 31, 15, 56, 76, 112, 39, 8, 113, 93]]\n",
      "[[185, 155, 171, 178, 108, 64, 164, 53, 140, 25, 100, 133, 9, 52, 191, 46, 20, 150, 144, 39, 62, 131, 42, 119, 127, 31, 7]]\n",
      "[[91, 155, 8, 160, 107, 132, 195, 26, 20, 133, 39, 76, 100, 78, 122, 127, 38, 156, 191, 196, 115]]\n"
     ]
    }
   ],
   "source": [
    "file = open('kargerMinCut.txt')\n",
    "#     global graph\n",
    "graph = {}\n",
    "\n",
    "\n",
    "for i in range(1,10):\n",
    "    print(graph[i])"
   ]
  },
  {
   "cell_type": "code",
   "execution_count": 48,
   "metadata": {},
   "outputs": [
    {
     "data": {
      "text/plain": [
       "['1', '2', '3', '4']"
      ]
     },
     "execution_count": 48,
     "metadata": {},
     "output_type": "execute_result"
    }
   ],
   "source": [
    "mylist = ['1', '2', '3', '4']\n",
    "mylist"
   ]
  },
  {
   "cell_type": "code",
   "execution_count": 51,
   "metadata": {},
   "outputs": [
    {
     "name": "stdout",
     "output_type": "stream",
     "text": [
      "[1, 2, 3, 4]\n"
     ]
    }
   ],
   "source": [
    "mylist = map(int, mylist)\n",
    "print(mylist)"
   ]
  },
  {
   "cell_type": "code",
   "execution_count": null,
   "metadata": {},
   "outputs": [],
   "source": []
  }
 ],
 "metadata": {
  "kernelspec": {
   "display_name": "Python 3",
   "language": "python",
   "name": "python3"
  },
  "language_info": {
   "codemirror_mode": {
    "name": "ipython",
    "version": 2
   },
   "file_extension": ".py",
   "mimetype": "text/x-python",
   "name": "python",
   "nbconvert_exporter": "python",
   "pygments_lexer": "ipython2",
   "version": "2.7.14"
  }
 },
 "nbformat": 4,
 "nbformat_minor": 2
}
