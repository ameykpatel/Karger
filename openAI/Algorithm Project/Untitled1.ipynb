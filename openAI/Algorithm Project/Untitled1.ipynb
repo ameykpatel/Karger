{
 "cells": [
  {
   "cell_type": "code",
   "execution_count": 82,
   "metadata": {},
   "outputs": [],
   "source": [
    "from collections import deque\n",
    " \n",
    "def ford_fulkerson(n, s, t, c):\n",
    "    '''\n",
    "    n: number of nodes\n",
    "    s: start node\n",
    "    t: target node\n",
    "    c: capacity matrix\n",
    "    '''\n",
    "    INF = 1 << 50\n",
    "    max_flow = 0\n",
    " \n",
    " \n",
    "    f = [[0 for k in range(n)] for i in range(n)]\n",
    " \n",
    "    # while there is a path from s to t in the residual graph\n",
    "    while True:\n",
    "        # Use BFS to find s-t path in residual graph\n",
    "        prev = [ -1 for _ in range(n) ]\n",
    "        prev[s] = -2\n",
    "        q = deque()\n",
    "        q.append(s)\n",
    " \n",
    "        while q and prev[t] == -1:\n",
    "            u = q.popleft()\n",
    "            for v in range(n):\n",
    "                cf = c[u][v] - f[u][v]\n",
    "                if cf > 0 and prev[v] == -1:\n",
    "                    q.append(v)\n",
    "                    prev[v] = u\n",
    " \n",
    "        if prev[t] == -1:   # if t has not been reached\n",
    "            break\n",
    " \n",
    "        # augment s-t path in residual graph that has been found by BFS\n",
    "        v = t\n",
    "        delta = INF\n",
    "        while True:\n",
    "            u = prev[v]\n",
    "            cf = c[u][v] - f[u][v]\n",
    "            delta = min(delta, cf)\n",
    "            v = u\n",
    "            if v == s:\n",
    "                break\n",
    " \n",
    "        v = t\n",
    "        while True:\n",
    "            u = prev[v]\n",
    "            f[u][v] += delta\n",
    "            f[v][u] -= delta\n",
    "            v = u\n",
    "            if v == s:\n",
    "                break\n",
    " \n",
    "        max_flow += delta\n",
    " \n",
    "    return max_flow\n",
    " \n",
    "\n",
    "def readGraphFromFile(filename):\n",
    "    file = open(filename).read().split()\n",
    "#     print(file[0:4])\n",
    "    counter = 0\n",
    "    node_number, edge_number, s, t = map(int, file[0:4])\n",
    "    file = open(filename) \n",
    "    capacity_matrix = []\n",
    "\n",
    "    for line in file:\n",
    "        if counter > 0 :\n",
    "            line = map(int, line.split())\n",
    "            capacity_matrix.append(line)\n",
    "        counter = counter + 1\n",
    "    return (node_number, s, t, capacity_matrix )\n",
    "\n",
    "\n",
    "def main():\n",
    "    node_number, s, t, capacity_matrix = readGraphFromFile('fulkerson.txt')\n",
    "    mincut = ford_fulkerson(node_number, s - 1, t - 1, capacity_matrix )\n",
    "    print('Min cut by Ford-Fulkerson Algorithm is {0}'.format(mincut))\n",
    "    print(node_number, s, t, capacity_matrix) "
   ]
  },
  {
   "cell_type": "code",
   "execution_count": 83,
   "metadata": {},
   "outputs": [
    {
     "ename": "IndexError",
     "evalue": "list index out of range",
     "output_type": "error",
     "traceback": [
      "\u001b[0;31m---------------------------------------------------------------------------\u001b[0m",
      "\u001b[0;31mIndexError\u001b[0m                                Traceback (most recent call last)",
      "\u001b[0;32m<ipython-input-83-263240bbee7e>\u001b[0m in \u001b[0;36m<module>\u001b[0;34m()\u001b[0m\n\u001b[0;32m----> 1\u001b[0;31m \u001b[0mmain\u001b[0m\u001b[0;34m(\u001b[0m\u001b[0;34m)\u001b[0m\u001b[0;34m\u001b[0m\u001b[0m\n\u001b[0m",
      "\u001b[0;32m<ipython-input-82-c5b2ada13737>\u001b[0m in \u001b[0;36mmain\u001b[0;34m()\u001b[0m\n\u001b[1;32m     76\u001b[0m \u001b[0;32mdef\u001b[0m \u001b[0mmain\u001b[0m\u001b[0;34m(\u001b[0m\u001b[0;34m)\u001b[0m\u001b[0;34m:\u001b[0m\u001b[0;34m\u001b[0m\u001b[0m\n\u001b[1;32m     77\u001b[0m     \u001b[0mnode_number\u001b[0m\u001b[0;34m,\u001b[0m \u001b[0ms\u001b[0m\u001b[0;34m,\u001b[0m \u001b[0mt\u001b[0m\u001b[0;34m,\u001b[0m \u001b[0mcapacity_matrix\u001b[0m \u001b[0;34m=\u001b[0m \u001b[0mreadGraphFromFile\u001b[0m\u001b[0;34m(\u001b[0m\u001b[0;34m'fulkerson.txt'\u001b[0m\u001b[0;34m)\u001b[0m\u001b[0;34m\u001b[0m\u001b[0m\n\u001b[0;32m---> 78\u001b[0;31m     \u001b[0mmincut\u001b[0m \u001b[0;34m=\u001b[0m \u001b[0mford_fulkerson\u001b[0m\u001b[0;34m(\u001b[0m\u001b[0mnode_number\u001b[0m\u001b[0;34m,\u001b[0m \u001b[0ms\u001b[0m \u001b[0;34m-\u001b[0m \u001b[0;36m1\u001b[0m\u001b[0;34m,\u001b[0m \u001b[0mt\u001b[0m \u001b[0;34m-\u001b[0m \u001b[0;36m1\u001b[0m\u001b[0;34m,\u001b[0m \u001b[0mcapacity_matrix\u001b[0m \u001b[0;34m)\u001b[0m\u001b[0;34m\u001b[0m\u001b[0m\n\u001b[0m\u001b[1;32m     79\u001b[0m     \u001b[0;32mprint\u001b[0m\u001b[0;34m(\u001b[0m\u001b[0;34m'Min cut by Ford-Fulkerson Algorithm is {0}'\u001b[0m\u001b[0;34m.\u001b[0m\u001b[0mformat\u001b[0m\u001b[0;34m(\u001b[0m\u001b[0mmincut\u001b[0m\u001b[0;34m)\u001b[0m\u001b[0;34m)\u001b[0m\u001b[0;34m\u001b[0m\u001b[0m\n\u001b[1;32m     80\u001b[0m     \u001b[0;32mprint\u001b[0m\u001b[0;34m(\u001b[0m\u001b[0mnode_number\u001b[0m\u001b[0;34m,\u001b[0m \u001b[0ms\u001b[0m\u001b[0;34m,\u001b[0m \u001b[0mt\u001b[0m\u001b[0;34m,\u001b[0m \u001b[0mcapacity_matrix\u001b[0m\u001b[0;34m)\u001b[0m\u001b[0;34m\u001b[0m\u001b[0m\n",
      "\u001b[0;32m<ipython-input-82-c5b2ada13737>\u001b[0m in \u001b[0;36mford_fulkerson\u001b[0;34m(n, s, t, c)\u001b[0m\n\u001b[1;32m     25\u001b[0m             \u001b[0mu\u001b[0m \u001b[0;34m=\u001b[0m \u001b[0mq\u001b[0m\u001b[0;34m.\u001b[0m\u001b[0mpopleft\u001b[0m\u001b[0;34m(\u001b[0m\u001b[0;34m)\u001b[0m\u001b[0;34m\u001b[0m\u001b[0m\n\u001b[1;32m     26\u001b[0m             \u001b[0;32mfor\u001b[0m \u001b[0mv\u001b[0m \u001b[0;32min\u001b[0m \u001b[0mrange\u001b[0m\u001b[0;34m(\u001b[0m\u001b[0mn\u001b[0m\u001b[0;34m)\u001b[0m\u001b[0;34m:\u001b[0m\u001b[0;34m\u001b[0m\u001b[0m\n\u001b[0;32m---> 27\u001b[0;31m                 \u001b[0mcf\u001b[0m \u001b[0;34m=\u001b[0m \u001b[0mc\u001b[0m\u001b[0;34m[\u001b[0m\u001b[0mu\u001b[0m\u001b[0;34m]\u001b[0m\u001b[0;34m[\u001b[0m\u001b[0mv\u001b[0m\u001b[0;34m]\u001b[0m \u001b[0;34m-\u001b[0m \u001b[0mf\u001b[0m\u001b[0;34m[\u001b[0m\u001b[0mu\u001b[0m\u001b[0;34m]\u001b[0m\u001b[0;34m[\u001b[0m\u001b[0mv\u001b[0m\u001b[0;34m]\u001b[0m\u001b[0;34m\u001b[0m\u001b[0m\n\u001b[0m\u001b[1;32m     28\u001b[0m                 \u001b[0;32mif\u001b[0m \u001b[0mcf\u001b[0m \u001b[0;34m>\u001b[0m \u001b[0;36m0\u001b[0m \u001b[0;32mand\u001b[0m \u001b[0mprev\u001b[0m\u001b[0;34m[\u001b[0m\u001b[0mv\u001b[0m\u001b[0;34m]\u001b[0m \u001b[0;34m==\u001b[0m \u001b[0;34m-\u001b[0m\u001b[0;36m1\u001b[0m\u001b[0;34m:\u001b[0m\u001b[0;34m\u001b[0m\u001b[0m\n\u001b[1;32m     29\u001b[0m                     \u001b[0mq\u001b[0m\u001b[0;34m.\u001b[0m\u001b[0mappend\u001b[0m\u001b[0;34m(\u001b[0m\u001b[0mv\u001b[0m\u001b[0;34m)\u001b[0m\u001b[0;34m\u001b[0m\u001b[0m\n",
      "\u001b[0;31mIndexError\u001b[0m: list index out of range"
     ]
    }
   ],
   "source": [
    "main()"
   ]
  },
  {
   "cell_type": "code",
   "execution_count": 88,
   "metadata": {},
   "outputs": [
    {
     "ename": "ImportError",
     "evalue": "No module named networkx",
     "output_type": "error",
     "traceback": [
      "\u001b[0;31m---------------------------------------------------------------------------\u001b[0m",
      "\u001b[0;31mImportError\u001b[0m                               Traceback (most recent call last)",
      "\u001b[0;32m<ipython-input-88-719b05231e1b>\u001b[0m in \u001b[0;36m<module>\u001b[0;34m()\u001b[0m\n\u001b[0;32m----> 1\u001b[0;31m \u001b[0;32mimport\u001b[0m \u001b[0mnetworkx\u001b[0m\u001b[0;34m\u001b[0m\u001b[0m\n\u001b[0m",
      "\u001b[0;31mImportError\u001b[0m: No module named networkx"
     ]
    }
   ],
   "source": [
    "import networkx\n"
   ]
  },
  {
   "cell_type": "code",
   "execution_count": null,
   "metadata": {},
   "outputs": [],
   "source": []
  }
 ],
 "metadata": {
  "kernelspec": {
   "display_name": "Python 3",
   "language": "python",
   "name": "python3"
  },
  "language_info": {
   "codemirror_mode": {
    "name": "ipython",
    "version": 2
   },
   "file_extension": ".py",
   "mimetype": "text/x-python",
   "name": "python",
   "nbconvert_exporter": "python",
   "pygments_lexer": "ipython2",
   "version": "2.7.14"
  }
 },
 "nbformat": 4,
 "nbformat_minor": 2
}
