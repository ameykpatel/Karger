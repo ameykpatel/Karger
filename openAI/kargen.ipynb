{
 "cells": [
  {
   "cell_type": "markdown",
   "metadata": {},
   "source": [
    "# About the algorithm:"
   ]
  },
  {
   "cell_type": "markdown",
   "metadata": {},
   "source": [
    "### The goal of the algorithm is to find a global min-cut in a graph in polynomial time. The graph is undirected and allows parallel edges. The algorithm chooses an edge randomly and contracts it. The procedure is performed recursively until two nodes remain."
   ]
  },
  {
   "cell_type": "code",
   "execution_count": 37,
   "metadata": {},
   "outputs": [],
   "source": [
    "import random \n",
    "random.seed = 420\n",
    "import copy\n",
    "from time import time"
   ]
  },
  {
   "cell_type": "code",
   "execution_count": null,
   "metadata": {},
   "outputs": [],
   "source": [
    "def getRandomEdge(graph):\n",
    "    v = random.choice(list(graph.keys()))\n",
    "    w = random.choice(graph[v])\n",
    "    return (v,w)\n",
    "\n",
    "def kargerMinCut(graph):\n",
    "    while len(graph) > 2:\n",
    "        v, w = getRandomEdge(graph)\n",
    "        contract(graph, v, w)\n",
    "    return len(graph[graph.keys()[0]])\n",
    " \n",
    "\n",
    "def contract(graph, v, w):\n",
    "    for node in graph[w]:\n",
    "        if node != v:\n",
    "            graph[v].append(node)\n",
    "        graph[node].remove(w)\n",
    "        if node != v:\n",
    "            graph[node].append(v)\n",
    "    del graph[w]"
   ]
  },
  {
   "cell_type": "code",
   "execution_count": 38,
   "metadata": {},
   "outputs": [],
   "source": [
    "def readGraphFromFile(filename):\n",
    "    file = open(filename)\n",
    "    global graph\n",
    "    graph = {}\n",
    "    for line in file:\n",
    "        edges = []\n",
    "        line = line.split()\n",
    "        line = [int(x) for x in line]\n",
    "        graph[int(line[0])] = line[1:]\n",
    "    print(str(len(graph)) + \" vertices in dictionary.\")\n",
    "    return graph"
   ]
  },
  {
   "cell_type": "code",
   "execution_count": 35,
   "metadata": {},
   "outputs": [
    {
     "name": "stdout",
     "output_type": "stream",
     "text": [
      "200 vertices in dictionary.\n",
      "MinCut is 17\n",
      "Time taken by the algorithm after 10 iteration(s) is 0.407109022141 \n"
     ]
    }
   ],
   "source": [
    "cuts = []\n",
    "graph = {}\n",
    "start = time()\n",
    "iteration = 10\n",
    "\n",
    "graph = readGraphFromFile('kargerMinCut.txt')\n",
    "for i in range(0, iteration):\n",
    "    copiedGraph = copy.deepcopy(graph)\n",
    "    mincut = kargerMinCut(copiedGraph)\n",
    "    cuts.append(mincut)\n",
    "print(\"MinCut is \" + str(min(cuts)))\n",
    "pass\n",
    "end = time()\n",
    "print(\"Time taken by the algorithm after {0} iteration(s) is {1} \".format( iteration,str(end - start)))\n",
    "\n"
   ]
  },
  {
   "cell_type": "markdown",
   "metadata": {},
   "source": []
  },
  {
   "cell_type": "code",
   "execution_count": null,
   "metadata": {},
   "outputs": [],
   "source": []
  },
  {
   "cell_type": "code",
   "execution_count": null,
   "metadata": {},
   "outputs": [],
   "source": []
  },
  {
   "cell_type": "code",
   "execution_count": null,
   "metadata": {},
   "outputs": [],
   "source": []
  },
  {
   "cell_type": "markdown",
   "metadata": {},
   "source": []
  },
  {
   "cell_type": "code",
   "execution_count": 6,
   "metadata": {},
   "outputs": [
    {
     "data": {
      "text/plain": [
       "EdgeView([(0, 1), (0, 2), (1, 3), (1, 4), (2, 5), (2, 6), (3, 8), (3, 7), (4, 10), (4, 9), (5, 11), (5, 12), (6, 13), (6, 14), (7, 16), (7, 15), (8, 17), (8, 18), (9, 20), (9, 19), (10, 21), (10, 22), (11, 24), (11, 23), (12, 25), (12, 26), (13, 27), (13, 28), (14, 30), (14, 29), (15, 32), (15, 31), (16, 33), (16, 34), (17, 35), (17, 36), (18, 37), (18, 38), (19, 40), (19, 39), (20, 42), (20, 41), (21, 43), (21, 44), (22, 45), (22, 46), (23, 48), (23, 47), (24, 49), (24, 50), (25, 52), (25, 51), (26, 53), (26, 54), (27, 56), (27, 55), (28, 57), (28, 58), (29, 59), (29, 60), (30, 62), (30, 61)])"
      ]
     },
     "execution_count": 6,
     "metadata": {},
     "output_type": "execute_result"
    }
   ],
   "source": [
    "import networkx as nx\n",
    "g=nx.balanced_tree(2,5)\n",
    "g.edges()\n",
    "\n"
   ]
  },
  {
   "cell_type": "code",
   "execution_count": null,
   "metadata": {},
   "outputs": [],
   "source": []
  }
 ],
 "metadata": {
  "kernelspec": {
   "display_name": "Python 3",
   "language": "python",
   "name": "python3"
  },
  "language_info": {
   "codemirror_mode": {
    "name": "ipython",
    "version": 2
   },
   "file_extension": ".py",
   "mimetype": "text/x-python",
   "name": "python",
   "nbconvert_exporter": "python",
   "pygments_lexer": "ipython2",
   "version": "2.7.14"
  }
 },
 "nbformat": 4,
 "nbformat_minor": 2
}
