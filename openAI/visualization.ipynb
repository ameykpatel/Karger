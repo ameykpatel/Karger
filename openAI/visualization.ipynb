{
 "cells": [
  {
   "cell_type": "code",
   "execution_count": 21,
   "metadata": {},
   "outputs": [
    {
     "data": {
      "image/png": "[encoded data removed]",
      "text/plain": [
       "<matplotlib.figure.Figure at 0x7fe13d293550>"
      ]
     },
     "metadata": {},
     "output_type": "display_data"
    }
   ],
   "source": [
    "%config IPCompleter.greedy=True\n",
    "%matplotlib inline\n",
    "import networkx as nx\n",
    "from networkx.drawing.nx_agraph import write_dot, graphviz_layout, to_agraph\n",
    "import matplotlib.pyplot as plt\n",
    "nodecolors = {}\n",
    "G = nx.DiGraph()\n",
    "def drawGraph():\n",
    "   # pos =graphviz_layout(G)\n",
    "    edges = G.edges()\n",
    "    colors = [nodecolors[u][v] for u,v in edges]\n",
    "    nx.draw(G,\n",
    "            pos = nx.spring_layout(G),\n",
    "            with_labels=False, \n",
    "            arrows=False, \n",
    "            edge_color=colors, \n",
    "            node_color='black', \n",
    "            width=5)\n",
    "\n",
    "def add_edge(From, To, color='black'):\n",
    "    G.add_edge(From,To)\n",
    "    if From in nodecolors:\n",
    "        nodecolors[From][To] = color\n",
    "    else:\n",
    "        nodecolors[From] = {To:color}\n",
    "    \n",
    "def createGraph():\n",
    "    G.add_node(\"ROOT\")\n",
    "    for i in range(5):\n",
    "        G.add_node(\"Child_%i\" % i)\n",
    "        G.add_node(\"Grandchild_%i\" % i)\n",
    "        G.add_node(\"Greatgrandchild_%i\" % i)\n",
    "        add_edge(\"ROOT\", \"Child_%i\" % i,'b')\n",
    "        add_edge(\"Child_%i\" % i, \"Grandchild_%i\" % i,'r')\n",
    "        add_edge(\"Grandchild_%i\" % i, \"Greatgrandchild_%i\" % i,'b')\n",
    "createGraph()\n",
    "drawGraph()"
   ]
  },
  {
   "cell_type": "code",
   "execution_count": 17,
   "metadata": {},
   "outputs": [
    {
     "ename": "SyntaxError",
     "evalue": "invalid syntax (<ipython-input-17-e29701ab7d5b>, line 1)",
     "output_type": "error",
     "traceback": [
      "\u001b[0;36m  File \u001b[0;32m\"<ipython-input-17-e29701ab7d5b>\"\u001b[0;36m, line \u001b[0;32m1\u001b[0m\n\u001b[0;31m    pip install graphviz\u001b[0m\n\u001b[0m              ^\u001b[0m\n\u001b[0;31mSyntaxError\u001b[0m\u001b[0;31m:\u001b[0m invalid syntax\n"
     ]
    }
   ],
   "source": [
    "pip install graphviz"
   ]
  },
  {
   "cell_type": "markdown",
   "metadata": {},
   "source": [
    "$$ epsilon =10 $$"
   ]
  },
  {
   "cell_type": "code",
   "execution_count": 8,
   "metadata": {},
   "outputs": [],
   "source": [
    "\n",
    "%matplotlib inline\n",
    "import networkx as nx\n",
    "from networkx.drawing.nx_agraph import write_dot, graphviz_layout, to_agraph\n",
    "import matplotlib.pyplot as plt"
   ]
  },
  {
   "cell_type": "code",
   "execution_count": null,
   "metadata": {},
   "outputs": [],
   "source": []
  }
 ],
 "metadata": {
  "kernelspec": {
   "display_name": "Python 3",
   "language": "python",
   "name": "python3"
  },
  "language_info": {
   "codemirror_mode": {
    "name": "ipython",
    "version": 2
   },
   "file_extension": ".py",
   "mimetype": "text/x-python",
   "name": "python",
   "nbconvert_exporter": "python",
   "pygments_lexer": "ipython2",
   "version": "2.7.14"
  }
 },
 "nbformat": 4,
 "nbformat_minor": 2
}
