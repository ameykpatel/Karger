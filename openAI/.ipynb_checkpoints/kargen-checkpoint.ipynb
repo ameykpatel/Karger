{
 "cells": [
  {
   "cell_type": "code",
   "execution_count": 1,
   "metadata": {},
   "outputs": [],
   "source": [
    "import random\n",
    "import copy\n",
    "import numpy as np\n",
    "from time import *\n",
    "\n",
    "cuts = []\n",
    "graph = {}\n",
    "\n",
    "def getRandomEdge(graph):\n",
    "    v = random.choice(list(graph.keys()))\n",
    "    w = random.choice(graph[v])\n",
    "    return (v,w)\n",
    "\n",
    "def kargerMinCut(graph):\n",
    "    while len(graph) > 2:\n",
    "        v, w = getRandomEdge(graph)\n",
    "        contract(graph, v, w)\n",
    "    mincut = len(graph[list(graph.keys())[0]])\n",
    "    cuts.append(mincut)\n",
    "\n",
    "def contract(graph, v, w):\n",
    "    for node in graph[w]:\n",
    "        if node != v:\n",
    "            graph[v].append(node)\n",
    "        graph[node].remove(w)\n",
    "        if node != v:\n",
    "            graph[node].append(v)\n",
    "    del graph[w]\n",
    "\n",
    "def readGraphFromFile(filename):\n",
    "    file = open(filename)\n",
    "    global graph\n",
    "    graph = {}\n",
    "    for line in file:\n",
    "        edges = []\n",
    "        line = line.split()\n",
    "        line = [int(x) for x in line]\n",
    "        graph[int(line[0])] = line[1:]\n",
    "    print(str(len(graph)) + \" vertices in dictionary.\")\n",
    "    return graph\n"
   ]
  },
  {
   "cell_type": "code",
   "execution_count": 4,
   "metadata": {},
   "outputs": [],
   "source": [
    "def main():\n",
    "    start = time()\n",
    "    iteration = 10\n",
    "\n",
    "    graph = readGraphFromFile('kargerMinCut.txt')\n",
    "    for i in range(1, iteration):\n",
    "        copiedGraph = copy.deepcopy(graph)\n",
    "        kargerMinCut(copiedGraph)\n",
    "    print(\"MinCut is \" + str(min(cuts)))\n",
    "    pass\n",
    "    end = time()\n",
    "    print(\"Time taken by the algorithm after {0} iteration(s) is {1} \".format( iteration,str(end - start)))\n"
   ]
  },
  {
   "cell_type": "code",
   "execution_count": 5,
   "metadata": {},
   "outputs": [
    {
     "name": "stdout",
     "output_type": "stream",
     "text": [
      "200 vertices in dictionary.\n",
      "MinCut is 17\n",
      "Time taken by the algorithm after 10 iteration(s) is 0.364852905273 \n"
     ]
    }
   ],
   "source": [
    "main()"
   ]
  },
  {
   "cell_type": "markdown",
   "metadata": {},
   "source": []
  },
  {
   "cell_type": "code",
   "execution_count": null,
   "metadata": {},
   "outputs": [],
   "source": []
  },
  {
   "cell_type": "code",
   "execution_count": null,
   "metadata": {},
   "outputs": [],
   "source": []
  },
  {
   "cell_type": "code",
   "execution_count": null,
   "metadata": {},
   "outputs": [],
   "source": []
  },
  {
   "cell_type": "code",
   "execution_count": null,
   "metadata": {},
   "outputs": [],
   "source": []
  },
  {
   "cell_type": "code",
   "execution_count": 124,
   "metadata": {},
   "outputs": [
    {
     "name": "stdout",
     "output_type": "stream",
     "text": [
      "[-1, -1, -1, -1, -1, -1, -1, -1, -1, -1]\n"
     ]
    }
   ],
   "source": [
    "pweg = [ -1 for _ in range(10) ]\n",
    "print(pweg)"
   ]
  },
  {
   "cell_type": "markdown",
   "metadata": {},
   "source": [
    "f = [[0 for k in range(n)] for i in range(n)]\n",
    "print(f)"
   ]
  },
  {
   "cell_type": "code",
   "execution_count": 127,
   "metadata": {},
   "outputs": [
    {
     "name": "stdout",
     "output_type": "stream",
     "text": [
      "[[0, 0, 0, 0], [0, 0, 0, 0], [0, 0, 0, 0], [0, 0, 0, 0]]\n"
     ]
    }
   ],
   "source": [
    "n = 4\n",
    "f = [[0 for k in range(n)] for i in range(n)]\n",
    "print(f)"
   ]
  },
  {
   "cell_type": "code",
   "execution_count": null,
   "metadata": {},
   "outputs": [],
   "source": []
  }
 ],
 "metadata": {
  "kernelspec": {
   "display_name": "Python 3",
   "language": "python",
   "name": "python3"
  },
  "language_info": {
   "codemirror_mode": {
    "name": "ipython",
    "version": 2
   },
   "file_extension": ".py",
   "mimetype": "text/x-python",
   "name": "python",
   "nbconvert_exporter": "python",
   "pygments_lexer": "ipython2",
   "version": "2.7.14"
  }
 },
 "nbformat": 4,
 "nbformat_minor": 2
}
