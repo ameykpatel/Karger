{
 "cells": [
  {
   "cell_type": "code",
   "execution_count": 242,
   "metadata": {},
   "outputs": [],
   "source": [
    "import random\n",
    "import copy\n",
    "import numpy as np\n",
    "from time import *\n",
    "\n",
    "cuts = []\n",
    "graph = {}\n",
    "edges_to_remove = []\n",
    "edge_iteration = []\n",
    "\n",
    "\n",
    "def getRandomEdge(graph):\n",
    "    v = random.choice(list(graph.keys()))\n",
    "    w = random.choice(graph[v])\n",
    "    edges_to_remove.append((v,w))\n",
    "    return (v,w)\n",
    "\n",
    "def kargerMinCut(graph):\n",
    "    while len(graph) > 2:\n",
    "        v, w = getRandomEdge(graph)\n",
    "        contract(graph, v, w)\n",
    "    mincut = len(graph[list(graph.keys())[0]])\n",
    "    cuts.append(mincut)\n",
    "\n",
    "def contract(graph, v, w):\n",
    "    for node in graph[w]:\n",
    "        if node != v:\n",
    "            graph[v].append(node)\n",
    "        graph[node].remove(w)\n",
    "        if node != v:\n",
    "            graph[node].append(v)\n",
    "    del graph[w]\n",
    "\n",
    "def readGraphFromFile(filename):\n",
    "    file = open(filename)\n",
    "    global graph\n",
    "    graph = {}\n",
    "    for line in file:\n",
    "        edges = []\n",
    "        line = line.split()\n",
    "        line = [int(x) for x in line]\n",
    "        graph[int(line[0])] = line[1:]\n",
    "    print(str(len(graph)) + \" vertices in dictionary.\")\n",
    "    return graph\n",
    "\n",
    "def main():\n",
    "    start = time()\n",
    "    iteration = 10\n",
    "    graph = readGraphFromFile('sample.txt')\n",
    "#     global edge_iteration\n",
    "#     edge_iteration = dict()\n",
    "    for i in range(1, iteration + 1):\n",
    "#         print('\\n\\n')\n",
    "        copiedGraph = copy.deepcopy(graph)\n",
    "        kargerMinCut(copiedGraph)\n",
    "        a = copy.deepcopy(edges_to_remove)\n",
    "        edge_iteration.append(a) \n",
    "#         print(edges_to_remove)\n",
    "#         print(edge_iteration)\n",
    "        del edges_to_remove[:] \n",
    "        \n",
    "#     print(edge_iteration)\n",
    "#     print(cuts)\n",
    "    print(\"MinCut is \" + str(min(cuts)))\n",
    "    pass\n",
    "    end = time()\n",
    "    \n",
    "    print(\"Time taken by the algorithm after {0} iteration(s) is {1} \".format( iteration,str(end - start)))\n",
    "\n"
   ]
  },
  {
   "cell_type": "code",
   "execution_count": 243,
   "metadata": {},
   "outputs": [
    {
     "name": "stdout",
     "output_type": "stream",
     "text": [
      "4 vertices in dictionary.\n",
      "MinCut is 2\n",
      "Time taken by the algorithm after 10 iteration(s) is 0.00138092041016 \n"
     ]
    }
   ],
   "source": [
    "main()"
   ]
  },
  {
   "cell_type": "code",
   "execution_count": 244,
   "metadata": {},
   "outputs": [
    {
     "data": {
      "text/plain": [
       "[3, 3, 2, 3, 2, 2, 3, 2, 3, 2]"
      ]
     },
     "execution_count": 244,
     "metadata": {},
     "output_type": "execute_result"
    }
   ],
   "source": [
    "cuts"
   ]
  },
  {
   "cell_type": "code",
   "execution_count": 245,
   "metadata": {},
   "outputs": [
    {
     "data": {
      "text/plain": [
       "2"
      ]
     },
     "execution_count": 245,
     "metadata": {},
     "output_type": "execute_result"
    }
   ],
   "source": [
    "cuts.index(min(cuts))"
   ]
  },
  {
   "cell_type": "code",
   "execution_count": 251,
   "metadata": {},
   "outputs": [
    {
     "data": {
      "text/plain": [
       "[[(2, 1), (3, 4)],\n",
       " [(2, 4), (3, 2)],\n",
       " [(3, 1), (3, 4)],\n",
       " [(4, 2), (3, 4)],\n",
       " [(1, 4), (1, 3)],\n",
       " [(4, 1), (2, 4)],\n",
       " [(3, 1), (2, 3)],\n",
       " [(3, 1), (3, 4)],\n",
       " [(1, 3), (2, 4)],\n",
       " [(4, 1), (3, 4)]]"
      ]
     },
     "execution_count": 251,
     "metadata": {},
     "output_type": "execute_result"
    }
   ],
   "source": [
    "edge_iteration"
   ]
  },
  {
   "cell_type": "code",
   "execution_count": 253,
   "metadata": {},
   "outputs": [
    {
     "data": {
      "text/plain": [
       "10"
      ]
     },
     "execution_count": 253,
     "metadata": {},
     "output_type": "execute_result"
    }
   ],
   "source": [
    "len(edge_iteration)\n"
   ]
  },
  {
   "cell_type": "code",
   "execution_count": 256,
   "metadata": {},
   "outputs": [
    {
     "name": "stdout",
     "output_type": "stream",
     "text": [
      "[(3, 1), (3, 4)]\n"
     ]
    }
   ],
   "source": [
    "required_edges = edge_iteration[cuts.index(min(cuts))]\n",
    "print(required_edges)"
   ]
  },
  {
   "cell_type": "code",
   "execution_count": null,
   "metadata": {},
   "outputs": [],
   "source": []
  }
 ],
 "metadata": {
  "kernelspec": {
   "display_name": "Python 3",
   "language": "python",
   "name": "python3"
  },
  "language_info": {
   "codemirror_mode": {
    "name": "ipython",
    "version": 2
   },
   "file_extension": ".py",
   "mimetype": "text/x-python",
   "name": "python",
   "nbconvert_exporter": "python",
   "pygments_lexer": "ipython2",
   "version": "2.7.14"
  }
 },
 "nbformat": 4,
 "nbformat_minor": 2
}
